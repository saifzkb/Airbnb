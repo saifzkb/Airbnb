{
 "cells": [
  {
   "cell_type": "markdown",
   "metadata": {},
   "source": [
    "# U.S. Airbnb Open Data\n",
    "### Airbnb listings and metrics of regions in the U.S.\n",
    "https://www.kaggle.com/kritikseth/us-airbnb-open-data"
   ]
  },
  {
   "cell_type": "markdown",
   "metadata": {},
   "source": [
    "Goal: We will be exploring Airbnb listings from the USA, the main goal of this Kernel will be exploring the data and predicting the price of a listing given a new sample. Our methodology in this Kernel will follow a standard analysis and prediction methodology where we will first assess the data for any missing values followed by outlier imputation.\n",
    "\n",
    "The next stage will be the EDA where we will conduct two types of analysis: a distribution analysis on our numeric features and a location-based analysis hopefully seeing patterns in different locations in the USA which will support our model later on.\n",
    "\n",
    "After we are done with the EDA we will construct our model, the model will consist of two parts, the first will be a sequential neural network with an embedding layer which will break down the name of the listing and create predictions based on those embeddings, the prediction from the sequential model will be fed into a random forest model together with the remaining numeric features from our dataset depending on what we find during the EDA, the idea is to create an ensembled model pipeline which will take full advantage of the listing name which is usually a key feature when looking at the price (many key features are described as words in the name and do not exist as individual features in our data.\n"
   ]
  },
  {
   "cell_type": "code",
   "execution_count": 3,
   "metadata": {},
   "outputs": [],
   "source": [
    "# Libraries And Utilities\n",
    "\n",
    "import numpy as np # linear algebra\n",
    "import pandas as pd # data processing, CSV file I/O (e.g. pd.read_csv)\n",
    "import matplotlib.pyplot as plt\n",
    "import seaborn as sns\n",
    "sns.set_style('darkgrid')\n",
    "import plotly.express as ex\n",
    "import plotly.graph_objs as go\n",
    "import string\n",
    "import re\n",
    "import nltk\n",
    "from wordcloud import WordCloud,STOPWORDS\n",
    "from sklearn.decomposition import TruncatedSVD\n",
    "from sklearn.metrics import mean_squared_error\n",
    "from sklearn.linear_model import LinearRegression\n",
    "from sklearn.ensemble import RandomForestRegressor\n",
    "from sklearn.pipeline import Pipeline\n",
    "from keras import Sequential\n",
    "from keras.layers import Dense\n",
    "from sklearn.model_selection import train_test_split\n",
    "import tensorflow as tf\n",
    "import os\n",
    "import collections\n",
    "def RMSE(Y,YHAT):\n",
    "    return np.sqrt(mean_squared_error(Y,YHAT))\n",
    "\n",
    "stopwords=list(STOPWORDS)\n",
    "\n",
    "plt.rc('figure',figsize=(20,11))\n",
    "\n",
    "def set_seed(seed=31415):\n",
    "    np.random.seed(seed)\n",
    "    tf.random.set_seed(seed)\n",
    "    os.environ['PYTHONHASHSEED'] = str(seed)\n",
    "    os.environ['TF_DETERMINISTIC_OPS'] = '1'\n",
    "set_seed()"
   ]
  },
  {
   "cell_type": "code",
   "execution_count": 4,
   "metadata": {},
   "outputs": [
    {
     "data": {
      "text/html": [
       "<div>\n",
       "<style scoped>\n",
       "    .dataframe tbody tr th:only-of-type {\n",
       "        vertical-align: middle;\n",
       "    }\n",
       "\n",
       "    .dataframe tbody tr th {\n",
       "        vertical-align: top;\n",
       "    }\n",
       "\n",
       "    .dataframe thead th {\n",
       "        text-align: right;\n",
       "    }\n",
       "</style>\n",
       "<table border=\"1\" class=\"dataframe\">\n",
       "  <thead>\n",
       "    <tr style=\"text-align: right;\">\n",
       "      <th></th>\n",
       "      <th>id</th>\n",
       "      <th>name</th>\n",
       "      <th>latitude</th>\n",
       "      <th>longitude</th>\n",
       "      <th>room_type</th>\n",
       "      <th>price</th>\n",
       "      <th>minimum_nights</th>\n",
       "      <th>number_of_reviews</th>\n",
       "      <th>last_review</th>\n",
       "      <th>reviews_per_month</th>\n",
       "      <th>calculated_host_listings_count</th>\n",
       "      <th>availability_365</th>\n",
       "      <th>city</th>\n",
       "    </tr>\n",
       "  </thead>\n",
       "  <tbody>\n",
       "    <tr>\n",
       "      <th>0</th>\n",
       "      <td>38585</td>\n",
       "      <td>Charming Victorian home - twin beds + breakfast</td>\n",
       "      <td>35.65146</td>\n",
       "      <td>-82.62792</td>\n",
       "      <td>Private room</td>\n",
       "      <td>60</td>\n",
       "      <td>1</td>\n",
       "      <td>138</td>\n",
       "      <td>16/02/20</td>\n",
       "      <td>1.14</td>\n",
       "      <td>1</td>\n",
       "      <td>0</td>\n",
       "      <td>Asheville</td>\n",
       "    </tr>\n",
       "    <tr>\n",
       "      <th>1</th>\n",
       "      <td>80905</td>\n",
       "      <td>French Chic Loft</td>\n",
       "      <td>35.59779</td>\n",
       "      <td>-82.55540</td>\n",
       "      <td>Entire home/apt</td>\n",
       "      <td>470</td>\n",
       "      <td>1</td>\n",
       "      <td>114</td>\n",
       "      <td>07/09/20</td>\n",
       "      <td>1.03</td>\n",
       "      <td>11</td>\n",
       "      <td>288</td>\n",
       "      <td>Asheville</td>\n",
       "    </tr>\n",
       "    <tr>\n",
       "      <th>2</th>\n",
       "      <td>108061</td>\n",
       "      <td>Walk to stores/parks/downtown. Fenced yard/Pet...</td>\n",
       "      <td>35.60670</td>\n",
       "      <td>-82.55563</td>\n",
       "      <td>Entire home/apt</td>\n",
       "      <td>75</td>\n",
       "      <td>30</td>\n",
       "      <td>89</td>\n",
       "      <td>30/11/19</td>\n",
       "      <td>0.81</td>\n",
       "      <td>2</td>\n",
       "      <td>298</td>\n",
       "      <td>Asheville</td>\n",
       "    </tr>\n",
       "  </tbody>\n",
       "</table>\n",
       "</div>"
      ],
      "text/plain": [
       "       id                                               name  latitude  \\\n",
       "0   38585    Charming Victorian home - twin beds + breakfast  35.65146   \n",
       "1   80905                                   French Chic Loft  35.59779   \n",
       "2  108061  Walk to stores/parks/downtown. Fenced yard/Pet...  35.60670   \n",
       "\n",
       "   longitude        room_type  price  minimum_nights  number_of_reviews  \\\n",
       "0  -82.62792     Private room     60               1                138   \n",
       "1  -82.55540  Entire home/apt    470               1                114   \n",
       "2  -82.55563  Entire home/apt     75              30                 89   \n",
       "\n",
       "  last_review  reviews_per_month  calculated_host_listings_count  \\\n",
       "0    16/02/20               1.14                               1   \n",
       "1    07/09/20               1.03                              11   \n",
       "2    30/11/19               0.81                               2   \n",
       "\n",
       "   availability_365       city  \n",
       "0                 0  Asheville  \n",
       "1               288  Asheville  \n",
       "2               298  Asheville  "
      ]
     },
     "execution_count": 4,
     "metadata": {},
     "output_type": "execute_result"
    }
   ],
   "source": [
    "# Data Importation And Missing Value Assessment\n",
    "a_data = pd.read_csv('AB_US_2020.csv',usecols=['id','name','latitude','longitude','room_type','price','minimum_nights','number_of_reviews','last_review','reviews_per_month','calculated_host_listings_count',\n",
    "                                                                                'availability_365','city'])\n",
    "a_data.head(3)"
   ]
  },
  {
   "cell_type": "code",
   "execution_count": 5,
   "metadata": {},
   "outputs": [
    {
     "name": "stdout",
     "output_type": "stream",
     "text": [
      "<class 'pandas.core.frame.DataFrame'>\n",
      "RangeIndex: 226030 entries, 0 to 226029\n",
      "Data columns (total 13 columns):\n",
      " #   Column                          Non-Null Count   Dtype  \n",
      "---  ------                          --------------   -----  \n",
      " 0   id                              226030 non-null  int64  \n",
      " 1   name                            226002 non-null  object \n",
      " 2   latitude                        226030 non-null  float64\n",
      " 3   longitude                       226030 non-null  float64\n",
      " 4   room_type                       226030 non-null  object \n",
      " 5   price                           226030 non-null  int64  \n",
      " 6   minimum_nights                  226030 non-null  int64  \n",
      " 7   number_of_reviews               226030 non-null  int64  \n",
      " 8   last_review                     177428 non-null  object \n",
      " 9   reviews_per_month               177428 non-null  float64\n",
      " 10  calculated_host_listings_count  226030 non-null  int64  \n",
      " 11  availability_365                226030 non-null  int64  \n",
      " 12  city                            226030 non-null  object \n",
      "dtypes: float64(3), int64(6), object(4)\n",
      "memory usage: 22.4+ MB\n"
     ]
    }
   ],
   "source": [
    "numeric_features = a_data.select_dtypes(include=['int64','float64']).columns\n",
    "nominal_features = a_data.select_dtypes(include=['object'])\n",
    "numeric_features=numeric_features.delete(0)\n",
    "\n",
    "a_data.info()"
   ]
  },
  {
   "cell_type": "code",
   "execution_count": 6,
   "metadata": {},
   "outputs": [
    {
     "data": {
      "text/html": [
       "<div>\n",
       "<style scoped>\n",
       "    .dataframe tbody tr th:only-of-type {\n",
       "        vertical-align: middle;\n",
       "    }\n",
       "\n",
       "    .dataframe tbody tr th {\n",
       "        vertical-align: top;\n",
       "    }\n",
       "\n",
       "    .dataframe thead th {\n",
       "        text-align: right;\n",
       "    }\n",
       "</style>\n",
       "<table border=\"1\" class=\"dataframe\">\n",
       "  <thead>\n",
       "    <tr style=\"text-align: right;\">\n",
       "      <th></th>\n",
       "      <th>Precent Of Missing Values</th>\n",
       "    </tr>\n",
       "  </thead>\n",
       "  <tbody>\n",
       "    <tr>\n",
       "      <th>id</th>\n",
       "      <td>0.000000</td>\n",
       "    </tr>\n",
       "    <tr>\n",
       "      <th>name</th>\n",
       "      <td>0.012388</td>\n",
       "    </tr>\n",
       "    <tr>\n",
       "      <th>latitude</th>\n",
       "      <td>0.000000</td>\n",
       "    </tr>\n",
       "    <tr>\n",
       "      <th>longitude</th>\n",
       "      <td>0.000000</td>\n",
       "    </tr>\n",
       "    <tr>\n",
       "      <th>room_type</th>\n",
       "      <td>0.000000</td>\n",
       "    </tr>\n",
       "    <tr>\n",
       "      <th>price</th>\n",
       "      <td>0.000000</td>\n",
       "    </tr>\n",
       "    <tr>\n",
       "      <th>minimum_nights</th>\n",
       "      <td>0.000000</td>\n",
       "    </tr>\n",
       "    <tr>\n",
       "      <th>number_of_reviews</th>\n",
       "      <td>0.000000</td>\n",
       "    </tr>\n",
       "    <tr>\n",
       "      <th>last_review</th>\n",
       "      <td>21.502455</td>\n",
       "    </tr>\n",
       "    <tr>\n",
       "      <th>reviews_per_month</th>\n",
       "      <td>21.502455</td>\n",
       "    </tr>\n",
       "    <tr>\n",
       "      <th>calculated_host_listings_count</th>\n",
       "      <td>0.000000</td>\n",
       "    </tr>\n",
       "    <tr>\n",
       "      <th>availability_365</th>\n",
       "      <td>0.000000</td>\n",
       "    </tr>\n",
       "    <tr>\n",
       "      <th>city</th>\n",
       "      <td>0.000000</td>\n",
       "    </tr>\n",
       "  </tbody>\n",
       "</table>\n",
       "</div>"
      ],
      "text/plain": [
       "                                Precent Of Missing Values\n",
       "id                                               0.000000\n",
       "name                                             0.012388\n",
       "latitude                                         0.000000\n",
       "longitude                                        0.000000\n",
       "room_type                                        0.000000\n",
       "price                                            0.000000\n",
       "minimum_nights                                   0.000000\n",
       "number_of_reviews                                0.000000\n",
       "last_review                                     21.502455\n",
       "reviews_per_month                               21.502455\n",
       "calculated_host_listings_count                   0.000000\n",
       "availability_365                                 0.000000\n",
       "city                                             0.000000"
      ]
     },
     "execution_count": 6,
     "metadata": {},
     "output_type": "execute_result"
    }
   ],
   "source": [
    "missing = a_data.isna().sum()\n",
    "\n",
    "missing /= a_data.shape[0]\n",
    "missing *=100\n",
    "missing = missing.to_frame().rename(columns={0:'Precent Of Missing Values'})\n",
    "missing"
   ]
  },
  {
   "cell_type": "code",
   "execution_count": 9,
   "metadata": {},
   "outputs": [
    {
     "data": {
      "text/plain": [
       "Text(0.5, 1.0, 'Missing Values Proportion')"
      ]
     },
     "execution_count": 9,
     "metadata": {},
     "output_type": "execute_result"
    },
    {
     "data": {
      "image/png": "[encoded data removed]",
      "text/plain": [
       "<Figure size 1440x792 with 2 Axes>"
      ]
     },
     "metadata": {},
     "output_type": "display_data"
    }
   ],
   "source": [
    "ax = sns.heatmap(a_data.isna().T)\n",
    "ax.set_title('Missing Values Proportion',fontsize=19,fontweight='bold')"
   ]
  },
  {
   "cell_type": "code",
   "execution_count": 10,
   "metadata": {},
   "outputs": [],
   "source": [
    "a_data = a_data.dropna()"
   ]
  },
  {
   "cell_type": "code",
   "execution_count": null,
   "metadata": {},
   "outputs": [],
   "source": []
  }
 ],
 "metadata": {
  "kernelspec": {
   "display_name": "Python [conda env:learn-env] *",
   "language": "python",
   "name": "conda-env-learn-env-py"
  },
  "language_info": {
   "codemirror_mode": {
    "name": "ipython",
    "version": 3
   },
   "file_extension": ".py",
   "mimetype": "text/x-python",
   "name": "python",
   "nbconvert_exporter": "python",
   "pygments_lexer": "ipython3",
   "version": "3.6.9"
  }
 },
 "nbformat": 4,
 "nbformat_minor": 2
}
